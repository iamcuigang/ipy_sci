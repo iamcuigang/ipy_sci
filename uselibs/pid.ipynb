{
 "cells": [
  {
   "cell_type": "markdown",
   "metadata": {},
   "source": [
    "---"
   ]
  },
  {
   "cell_type": "markdown",
   "metadata": {},
   "source": [
    "<font size=4>\n",
    "$u_t=K_p e_t+\\beta K_i \\sum\\limits_{i=0}^{t}{e_i}+K_d (e_t-e_{t-1})$\n",
    "</font>"
   ]
  },
  {
   "cell_type": "markdown",
   "metadata": {},
   "source": [
    "---"
   ]
  },
  {
   "cell_type": "markdown",
   "metadata": {},
   "source": [
    "<font size=4>\n",
    "$\\beta = \n",
    "\\begin{cases} \n",
    "0,|e_t| > \\epsilon_1, \\\\\n",
    "\\dfrac{\\epsilon_1-e_t}{\\epsilon_1-\\epsilon_2}, \\epsilon_2 \\leq |e_t| \\leq \\epsilon_1, \\\\\n",
    "1, |e_t| < \\epsilon_2 \n",
    "\\end{cases}$\n",
    "</font>"
   ]
  },
  {
   "cell_type": "markdown",
   "metadata": {},
   "source": [
    "---"
   ]
  },
  {
   "cell_type": "markdown",
   "metadata": {},
   "source": [
    "<font size=4>\n",
    "$u_t'=\n",
    "\\begin{cases}\n",
    "u_{max}, u_t > u_{max}, \\\\\n",
    "u_t, u_{min} \\leq u_t \\leq u_{max}, \\\\\n",
    "u_{min}, u_t < u_{min}\n",
    "\\end{cases}$\n",
    "</font>"
   ]
  },
  {
   "cell_type": "markdown",
   "metadata": {},
   "source": [
    "---"
   ]
  },
  {
   "cell_type": "code",
   "execution_count": null,
   "metadata": {},
   "outputs": [],
   "source": []
  }
 ],
 "metadata": {
  "kernelspec": {
   "display_name": "Python 2",
   "language": "python",
   "name": "python2"
  },
  "language_info": {
   "codemirror_mode": {
    "name": "ipython",
    "version": 2
   },
   "file_extension": ".py",
   "mimetype": "text/x-python",
   "name": "python",
   "nbconvert_exporter": "python",
   "pygments_lexer": "ipython2",
   "version": "2.7.14"
  }
 },
 "nbformat": 4,
 "nbformat_minor": 2
}
