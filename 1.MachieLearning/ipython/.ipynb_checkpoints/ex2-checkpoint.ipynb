{
 "cells": [
  {
   "cell_type": "code",
   "execution_count": 1,
   "metadata": {},
   "outputs": [],
   "source": [
    "import numpy as np\n",
    "import matplotlib.pyplot as plt\n",
    "import seaborn as sns\n",
    "sns.set_context('talk')"
   ]
  },
  {
   "cell_type": "code",
   "execution_count": 2,
   "metadata": {},
   "outputs": [
    {
     "data": {
      "text/plain": [
       "array([[30.28671077, 43.89499752,  0.        ],\n",
       "       [35.84740877, 72.90219803,  0.        ],\n",
       "       [60.18259939, 86.3085521 ,  1.        ],\n",
       "       [79.03273605, 75.34437644,  1.        ],\n",
       "       [45.08327748, 56.31637178,  0.        ],\n",
       "       [61.10666454, 96.51142588,  1.        ],\n",
       "       [75.02474557, 46.55401354,  1.        ],\n",
       "       [76.0987867 , 87.42056972,  1.        ],\n",
       "       [84.43281996, 43.53339331,  1.        ]])"
      ]
     },
     "execution_count": 2,
     "metadata": {},
     "output_type": "execute_result"
    }
   ],
   "source": [
    "data = np.loadtxt('ex2data1.txt')\n",
    "data[1:10,:]"
   ]
  },
  {
   "cell_type": "code",
   "execution_count": 3,
   "metadata": {},
   "outputs": [],
   "source": [
    "X = data[:, (0,1)]\n",
    "y = data[:, 2].reshape(-1, 1)"
   ]
  },
  {
   "cell_type": "code",
   "execution_count": 4,
   "metadata": {},
   "outputs": [],
   "source": [
    "def plotData(X, y):\n",
    "    plt.plot(\n",
    "        X[np.where(y==0),0].T, X[np.where(y==0), 1].T, 'bo');\n",
    "    plt.plot(\n",
    "        X[np.where(y==1),0].T, X[np.where(y==1), 1].T, 'g^');"
   ]
  },
  {
   "cell_type": "code",
   "execution_count": 5,
   "metadata": {
    "scrolled": true
   },
   "outputs": [
    {
     "data": {
      "image/png": "[encoded data removed]",
      "text/plain": [
       "<Figure size 432x288 with 1 Axes>"
      ]
     },
     "metadata": {},
     "output_type": "display_data"
    }
   ],
   "source": [
    "%matplotlib inline\n",
    "plotData(X, y)\n",
    "plt.xlabel('Exam 1 score');\n",
    "plt.ylabel('Exam 2 score');\n",
    "# plt.legend(['Admitted', 'Not admitted']);"
   ]
  },
  {
   "cell_type": "code",
   "execution_count": 6,
   "metadata": {},
   "outputs": [],
   "source": [
    "m, n = X.shape\n",
    "XX = np.append(np.ones([m,1]), X, axis=1)\n",
    "initial_theta = np.zeros([n+1, 1])"
   ]
  },
  {
   "cell_type": "code",
   "execution_count": 7,
   "metadata": {},
   "outputs": [],
   "source": [
    "def sigmoid(z):\n",
    "    g = 1.0/(1.0+np.exp(-z))\n",
    "    return g\n",
    "\n",
    "def costFunction(theta, X, y):\n",
    "    m = len(y)\n",
    "    hx = sigmoid(np.dot(X, theta))\n",
    "    J1 = -y * np.log(hx)\n",
    "    J2 = (1.0 - y) * np.log(1.0 - hx)\n",
    "    J = 1.0 / m * np.sum( J1 - J2 )\n",
    "    \n",
    "    grad = 1.0 / m * np.sum( (hx - y) * X , axis = 0)\n",
    "    grad = grad.reshape(-1, 1)\n",
    "    \n",
    "    return J, grad"
   ]
  },
  {
   "cell_type": "code",
   "execution_count": 8,
   "metadata": {},
   "outputs": [
    {
     "name": "stdout",
     "output_type": "stream",
     "text": [
      "0.6931471805599453\n",
      "[[ -0.1       ]\n",
      " [-12.00921659]\n",
      " [-11.26284221]]\n"
     ]
    }
   ],
   "source": [
    "cost, grad = costFunction( initial_theta, XX, y)\n",
    "print cost ### 0.693\n",
    "print grad ### -0.100, -12.0092, -11.2628"
   ]
  },
  {
   "cell_type": "code",
   "execution_count": 9,
   "metadata": {},
   "outputs": [
    {
     "name": "stdout",
     "output_type": "stream",
     "text": [
      "0.21833019382659774\n",
      "[[0.04290299]\n",
      " [2.56623412]\n",
      " [2.64679737]]\n"
     ]
    }
   ],
   "source": [
    "test_theta = [[-24], [0.2], [0.2]]\n",
    "cost, grad = costFunction(test_theta, XX, y)\n",
    "print cost ### 0.218\n",
    "print grad ### 0.043, 2.566, 2.647"
   ]
  },
  {
   "cell_type": "code",
   "execution_count": 10,
   "metadata": {},
   "outputs": [],
   "source": [
    "def gradientDescent(X, y, theta, alpha, num_iters):\n",
    "    j_his = np.zeros([num_iters, 1])\n",
    "    for iter in range(num_iters):\n",
    "        j_his[iter], grad = costFunction(theta, X, y)\n",
    "        theta -= alpha * grad\n",
    "    return theta, j_his"
   ]
  },
  {
   "cell_type": "code",
   "execution_count": 11,
   "metadata": {},
   "outputs": [
    {
     "name": "stdout",
     "output_type": "stream",
     "text": [
      "[0.20352841]\n",
      "[[-25.00171254]\n",
      " [  0.2041154 ]\n",
      " [  0.20105619]]\n"
     ]
    }
   ],
   "source": [
    "##############################\n",
    "##\n",
    "##  Something is wrong!!!\n",
    "##\n",
    "##############################\n",
    "alpha = 0.001\n",
    "num_iters = 20\n",
    "m, n = X.shape\n",
    "\n",
    "### initial_theta = np.zeros([n+1, 1]).reshape(-1,1)  \n",
    "        ### fall into local minimum\n",
    "initial_theta = np.array([-25, 0.3, 0.3]).reshape(-1,1)\n",
    "\n",
    "theta, j_his = gradientDescent(XX, y, initial_theta, alpha, num_iters)\n",
    "print j_his[-1] ### 0.203\n",
    "print theta     ### -25.161, 0.206, 0.201"
   ]
  },
  {
   "cell_type": "code",
   "execution_count": 12,
   "metadata": {},
   "outputs": [
    {
     "data": {
      "image/png": "[encoded data removed]",
      "text/plain": [
       "<Figure size 432x288 with 1 Axes>"
      ]
     },
     "metadata": {},
     "output_type": "display_data"
    }
   ],
   "source": [
    "plt.plot(range(1, len(j_his)+1), j_his);"
   ]
  },
  {
   "cell_type": "code",
   "execution_count": 13,
   "metadata": {},
   "outputs": [],
   "source": [
    "### use optimal method\n",
    "\n",
    "from scipy.optimize import fmin_ncg\n",
    "\n",
    "def costJ(theta, *args):\n",
    "    theta = theta.reshape(-1,1)\n",
    "    X, y = args\n",
    "    m = len(y)\n",
    "    hx = sigmoid(np.dot(X, theta))\n",
    "    J1 = -y * np.log(hx)\n",
    "    J2 = (1.0 - y) * np.log(1.0 - hx)\n",
    "    J = 1.0 / m * np.sum( J1 - J2 )\n",
    "    return J\n",
    "\n",
    "def gradJ(theta, *args):\n",
    "    theta = theta.reshape(-1,1)\n",
    "    X, y = args\n",
    "    m = len(y)\n",
    "    hx = sigmoid(np.dot(X, theta))\n",
    "    (hx - y) * X\n",
    "    np.sum( (hx - y) * X , axis = 0)\n",
    "    grad = 1.0 / m * np.sum( (hx - y) * X , axis = 0)\n",
    "    return grad\n",
    "    \n",
    "def find_min(X, y, theta):\n",
    "    cost = 0\n",
    "    ncg = fmin_ncg(costJ, theta, fprime=gradJ, args=(X, y), \n",
    "                   full_output = True)\n",
    "    return ncg[0], ncg[1]"
   ]
  },
  {
   "cell_type": "code",
   "execution_count": 14,
   "metadata": {},
   "outputs": [
    {
     "name": "stdout",
     "output_type": "stream",
     "text": [
      "Optimization terminated successfully.\n",
      "         Current function value: 0.203498\n",
      "         Iterations: 28\n",
      "         Function evaluations: 72\n",
      "         Gradient evaluations: 245\n",
      "         Hessian evaluations: 0\n",
      "\n",
      "0.203497701754\n",
      "[[-25.16028249]\n",
      " [  0.2062233 ]\n",
      " [  0.2014631 ]]\n"
     ]
    }
   ],
   "source": [
    "#######\n",
    "## use find_min\n",
    "m, n = X.shape\n",
    "initial_theta = np.zeros([n+1, 1]).reshape(-1,1)\n",
    "theta, cost = find_min(XX, y, initial_theta)\n",
    "theta = theta.reshape(-1, 1)\n",
    "print\n",
    "print cost  ### 0.203\n",
    "print theta ### -25.161, 0.206, 0.201"
   ]
  },
  {
   "cell_type": "code",
   "execution_count": 15,
   "metadata": {},
   "outputs": [],
   "source": [
    "def plotDecisionBoundary(theta, XX, y):\n",
    "    plotData(XX[:, (1,2)], y)\n",
    "    if XX.shape[1] <= 3:\n",
    "        plot_x = [np.min(XX[:, 1])-2, np.max(XX[:,1])+2]\n",
    "        plot_y = (-1.0/theta[2]) * (theta[1]*plot_x + theta[0])\n",
    "        plt.plot(plot_x, plot_y, 'r')\n",
    "    else:\n",
    "        ### to add !\n",
    "        pass"
   ]
  },
  {
   "cell_type": "code",
   "execution_count": 16,
   "metadata": {},
   "outputs": [
    {
     "data": {
      "image/png": "[encoded data removed]",
      "text/plain": [
       "<Figure size 432x288 with 1 Axes>"
      ]
     },
     "metadata": {},
     "output_type": "display_data"
    }
   ],
   "source": [
    "plotDecisionBoundary(theta, XX, y)\n",
    "plt.xlabel('Exam 1 score');\n",
    "plt.ylabel('Exam 2 score');"
   ]
  },
  {
   "cell_type": "code",
   "execution_count": 17,
   "metadata": {},
   "outputs": [
    {
     "name": "stdout",
     "output_type": "stream",
     "text": [
      "[0.77628198]\n"
     ]
    }
   ],
   "source": [
    "prob = sigmoid(np.dot([1, 45, 85] , theta))\n",
    "print prob ### 0.775 +- 0.002"
   ]
  },
  {
   "cell_type": "code",
   "execution_count": 18,
   "metadata": {},
   "outputs": [
    {
     "name": "stdout",
     "output_type": "stream",
     "text": [
      "89.0\n"
     ]
    }
   ],
   "source": [
    "def predict(theta, X):\n",
    "    p = sigmoid(np.dot(X, theta))\n",
    "    p = (p>=0.5).astype(int)\n",
    "    return p\n",
    "\n",
    "p = predict(theta, XX)\n",
    "correct = (np.abs(p-y)<1e-1).astype(int)\n",
    "\n",
    "print np.mean(correct)*100  ### 89.0 %"
   ]
  },
  {
   "cell_type": "code",
   "execution_count": null,
   "metadata": {},
   "outputs": [],
   "source": []
  },
  {
   "cell_type": "code",
   "execution_count": null,
   "metadata": {},
   "outputs": [],
   "source": []
  },
  {
   "cell_type": "code",
   "execution_count": null,
   "metadata": {},
   "outputs": [],
   "source": []
  }
 ],
 "metadata": {
  "kernelspec": {
   "display_name": "Python 2",
   "language": "python",
   "name": "python2"
  },
  "language_info": {
   "codemirror_mode": {
    "name": "ipython",
    "version": 2
   },
   "file_extension": ".py",
   "mimetype": "text/x-python",
   "name": "python",
   "nbconvert_exporter": "python",
   "pygments_lexer": "ipython2",
   "version": "2.7.14"
  }
 },
 "nbformat": 4,
 "nbformat_minor": 2
}
