{
 "cells": [
  {
   "cell_type": "code",
   "execution_count": 1,
   "metadata": {},
   "outputs": [],
   "source": [
    "import numpy as np\n",
    "import matplotlib.pyplot as plt\n",
    "import seaborn as sns\n",
    "import math\n",
    "sns.set_context('talk')\n",
    "np.set_printoptions(suppress=True) \n",
    "    ### not xEyy format(science float format)\n",
    "%matplotlib inline    "
   ]
  },
  {
   "cell_type": "code",
   "execution_count": 2,
   "metadata": {},
   "outputs": [
    {
     "name": "stdout",
     "output_type": "stream",
     "text": [
      "['ytest', 'yval', '__header__', '__globals__', 'Xtest', 'Xval', 'y', 'X', '__version__']\n"
     ]
    }
   ],
   "source": [
    "import scipy.io\n",
    "data = scipy.io.loadmat('ex5data1.mat')\n",
    "print data.keys()"
   ]
  },
  {
   "cell_type": "code",
   "execution_count": 3,
   "metadata": {},
   "outputs": [],
   "source": [
    "X = data['X']\n",
    "y = data['y']\n",
    "Xval = data['Xval']\n",
    "yval = data['yval']\n",
    "Xtest = data['Xtest']\n",
    "ytest = data['ytest']"
   ]
  },
  {
   "cell_type": "code",
   "execution_count": 4,
   "metadata": {},
   "outputs": [
    {
     "data": {
      "image/png": "[encoded data removed]",
      "text/plain": [
       "<Figure size 432x288 with 1 Axes>"
      ]
     },
     "metadata": {},
     "output_type": "display_data"
    }
   ],
   "source": [
    "plt.plot(X, y, 'rX');\n",
    "plt.xlabel('Change in water level (x)');\n",
    "plt.ylabel('Water flowing out of the dam (y)');"
   ]
  },
  {
   "cell_type": "code",
   "execution_count": 27,
   "metadata": {},
   "outputs": [],
   "source": [
    "def regGrad(theta, *args):\n",
    "    (X, y, lamb) = args\n",
    "    m = len(y)\n",
    "    theta = theta.reshape(-1,1)\n",
    "    theta_00 = theta.copy()\n",
    "    theta_00[0] = 0\n",
    "    g1 = 1./m * np.sum((np.dot(X,theta)-y)*X, axis=0).reshape(-1,1)\n",
    "    g2 = lamb/m * theta_00\n",
    "    grad = g1 + g2\n",
    "    grad = grad.flatten()\n",
    "    return grad\n",
    "\n",
    "def regCostJ(theta, *args):\n",
    "    (X, y, lamb) = args\n",
    "    m = len(y)\n",
    "    theta = theta.reshape(-1,1)\n",
    "    theta_but0 = theta[1:]\n",
    "    J1 = 1./(2.*m)*np.sum((np.dot(X,theta)-y)**2)\n",
    "    J2 = lamb/(2.*m)*np.sum(theta_but0**2)\n",
    "    J = J1+J2\n",
    "    return J\n",
    "\n",
    "def linearRegCostFunction(X, y, theta, lamb):\n",
    "    J = regCostJ(theta, X, y, lamb)\n",
    "    grad = regGrad(theta, X, y, lamb)\n",
    "    return J, grad"
   ]
  },
  {
   "cell_type": "code",
   "execution_count": 39,
   "metadata": {},
   "outputs": [
    {
     "name": "stdout",
     "output_type": "stream",
     "text": [
      "303.9931922202643\n",
      "[-15.30301567 598.25074417]\n"
     ]
    }
   ],
   "source": [
    "m = len(X)\n",
    "theta = np.array([1, 1]).reshape(-1,1)\n",
    "XX = np.append(np.ones([m, 1]), X, axis=1)\n",
    "J, grad = linearRegCostFunction(XX, y, theta, 1.0)\n",
    "print J    ### 303.993192\n",
    "print grad ### -15.303016; 598.250744"
   ]
  },
  {
   "cell_type": "code",
   "execution_count": 40,
   "metadata": {},
   "outputs": [],
   "source": [
    "import scipy.optimize as opt\n",
    "def trainLinearReg(X, y, lamb):\n",
    "    init_theta = np.zeros([X.shape[1], 1])\n",
    "    theta = opt.fmin_cg(regCostJ, init_theta, fprime=regGrad,\n",
    "                      maxiter = 200,\n",
    "                    args=(X, y, lamb), disp=False)\n",
    "    return theta"
   ]
  },
  {
   "cell_type": "code",
   "execution_count": 41,
   "metadata": {},
   "outputs": [
    {
     "name": "stdout",
     "output_type": "stream",
     "text": [
      "[13.08790351  0.36777923]\n"
     ]
    }
   ],
   "source": [
    "lamb = 0.0\n",
    "theta = trainLinearReg(np.append(np.ones([m,1]), X, axis=1),\n",
    "                      y, lamb)\n",
    "print theta"
   ]
  },
  {
   "cell_type": "code",
   "execution_count": 48,
   "metadata": {},
   "outputs": [
    {
     "data": {
      "image/png": "[encoded data removed]",
      "text/plain": [
       "<Figure size 432x288 with 1 Axes>"
      ]
     },
     "metadata": {},
     "output_type": "display_data"
    }
   ],
   "source": [
    "plt.plot(X, y, 'rX');\n",
    "plt.xlabel('Change in water level (x)');\n",
    "plt.ylabel('Water flowing out of the dam (y)');\n",
    "theta = theta.reshape(-1,1)\n",
    "yyy = np.dot(np.append(np.ones([m,1]), X, axis=1), theta)\n",
    "plt.plot(X, yyy, 'b');"
   ]
  },
  {
   "cell_type": "code",
   "execution_count": 72,
   "metadata": {},
   "outputs": [],
   "source": [
    "def learningCurve(X, y, Xval, yval, lamb):\n",
    "    m = len(X)\n",
    "    error_train = np.zeros([m,1])\n",
    "    error_val   = np.zeros([m,1])\n",
    "    \n",
    "    for i in xrange(m):\n",
    "        print i,\n",
    "        theta = trainLinearReg(X[0:i+1, :], y[0:i+1], lamb)\n",
    "        error_train[i, 0], grad = linearRegCostFunction(\n",
    "            X[0:i+1, :], y[0:i+1], theta, 0.0)\n",
    "    \n",
    "    return error_train, error_val"
   ]
  },
  {
   "cell_type": "code",
   "execution_count": 73,
   "metadata": {},
   "outputs": [
    {
     "name": "stdout",
     "output_type": "stream",
     "text": [
      "0 1 2 3 4 5 6 7 8 9 10 11 # Error As Different Training Examples\n",
      "[[ 1.          0.          0.        ]\n",
      " [ 2.          0.          0.        ]\n",
      " [ 3.          3.28659505  0.        ]\n",
      " [ 4.          2.84267769  0.        ]\n",
      " [ 5.         13.15404881  0.        ]\n",
      " [ 6.         19.44396251  0.        ]\n",
      " [ 7.         20.09852166  0.        ]\n",
      " [ 8.         18.1728587   0.        ]\n",
      " [ 9.         22.60940542  0.        ]\n",
      " [10.         23.26146159  0.        ]\n",
      " [11.         24.31724959  0.        ]\n",
      " [12.         22.3739065   0.        ]]\n"
     ]
    }
   ],
   "source": [
    "lamb = 0.0\n",
    "XX = np.append(np.ones([m, 1]), X, axis=1)\n",
    "XXval = np.append(np.ones([len(Xval), 1]), Xval, axis=1)\n",
    "error_train, error_val = learningCurve(XX, y,\n",
    "                                      XXval, yval, lamb)\n",
    "print '# Error As Different Training Examples'\n",
    "disparr = np.append(error_train, error_val, axis=1)\n",
    "disparr = np.append(np.arange(1,m+1).reshape(-1,1),\n",
    "                    disparr, axis=1)\n",
    "print disparr"
   ]
  },
  {
   "cell_type": "code",
   "execution_count": 75,
   "metadata": {},
   "outputs": [
    {
     "data": {
      "image/png": "[encoded data removed]",
      "text/plain": [
       "<Figure size 432x288 with 1 Axes>"
      ]
     },
     "metadata": {},
     "output_type": "display_data"
    }
   ],
   "source": [
    "plt.plot(np.arange(1, m+1), error_train);\n",
    "plt.axis([0, 13, 0, 150]);"
   ]
  },
  {
   "cell_type": "code",
   "execution_count": null,
   "metadata": {},
   "outputs": [],
   "source": []
  }
 ],
 "metadata": {
  "kernelspec": {
   "display_name": "Python 2",
   "language": "python",
   "name": "python2"
  },
  "language_info": {
   "codemirror_mode": {
    "name": "ipython",
    "version": 2
   },
   "file_extension": ".py",
   "mimetype": "text/x-python",
   "name": "python",
   "nbconvert_exporter": "python",
   "pygments_lexer": "ipython2",
   "version": "2.7.14"
  }
 },
 "nbformat": 4,
 "nbformat_minor": 2
}
