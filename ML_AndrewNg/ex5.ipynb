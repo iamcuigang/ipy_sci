{
 "cells": [
  {
   "cell_type": "code",
   "execution_count": 1,
   "metadata": {},
   "outputs": [],
   "source": [
    "import numpy as np\n",
    "import matplotlib.pyplot as plt\n",
    "import seaborn as sns\n",
    "import math\n",
    "sns.set_context('talk')\n",
    "np.set_printoptions(suppress=True) \n",
    "    ### not xEyy format(science float format)\n",
    "%matplotlib inline    "
   ]
  },
  {
   "cell_type": "code",
   "execution_count": 2,
   "metadata": {},
   "outputs": [
    {
     "name": "stdout",
     "output_type": "stream",
     "text": [
      "['ytest', 'yval', '__header__', '__globals__', 'Xtest', 'Xval', 'y', 'X', '__version__']\n"
     ]
    }
   ],
   "source": [
    "import scipy.io\n",
    "data = scipy.io.loadmat('ex5data1.mat')\n",
    "print data.keys()"
   ]
  },
  {
   "cell_type": "code",
   "execution_count": 3,
   "metadata": {},
   "outputs": [],
   "source": [
    "X = data['X']\n",
    "y = data['y']\n",
    "Xval = data['Xval']\n",
    "yval = data['yval']\n",
    "Xtest = data['Xtest']\n",
    "ytest = data['ytest']"
   ]
  },
  {
   "cell_type": "code",
   "execution_count": 4,
   "metadata": {},
   "outputs": [
    {
     "data": {
      "image/png": "[encoded data removed]",
      "text/plain": [
       "<Figure size 432x288 with 1 Axes>"
      ]
     },
     "metadata": {},
     "output_type": "display_data"
    }
   ],
   "source": [
    "plt.plot(X, y, 'rX');\n",
    "plt.xlabel('Change in water level (x)');\n",
    "plt.ylabel('Water flowing out of the dam (y)');"
   ]
  },
  {
   "cell_type": "code",
   "execution_count": 5,
   "metadata": {},
   "outputs": [],
   "source": [
    "def regGrad(theta, *args):\n",
    "    (X, y, lamb) = args\n",
    "    m = len(y)\n",
    "    theta = theta.reshape(-1,1)\n",
    "    theta_00 = theta.copy()\n",
    "    theta_00[0] = 0\n",
    "    g1 = 1./m * np.sum((np.dot(X,theta)-y)*X, axis=0).reshape(-1,1)\n",
    "    g2 = lamb/m * theta_00\n",
    "    grad = g1 + g2\n",
    "    grad = grad.flatten()\n",
    "    return grad\n",
    "\n",
    "def regCostJ(theta, *args):\n",
    "    (X, y, lamb) = args\n",
    "    m = len(y)\n",
    "    theta = theta.reshape(-1,1)\n",
    "    theta_but0 = theta[1:]\n",
    "    J1 = 1./(2.*m)*np.sum((np.dot(X,theta)-y)**2)\n",
    "    J2 = lamb/(2.*m)*np.sum(theta_but0**2)\n",
    "    J = J1+J2\n",
    "    return J\n",
    "\n",
    "def linearRegCostFunction(X, y, theta, lamb):\n",
    "    J = regCostJ(theta, X, y, lamb)\n",
    "    grad = regGrad(theta, X, y, lamb)\n",
    "    return J, grad"
   ]
  },
  {
   "cell_type": "code",
   "execution_count": 6,
   "metadata": {},
   "outputs": [
    {
     "name": "stdout",
     "output_type": "stream",
     "text": [
      "303.9931922202643\n",
      "[-15.30301567 598.25074417]\n"
     ]
    }
   ],
   "source": [
    "m = len(X)\n",
    "theta = np.array([1, 1]).reshape(-1,1)\n",
    "XX = np.append(np.ones([m, 1]), X, axis=1)\n",
    "J, grad = linearRegCostFunction(XX, y, theta, 1.0)\n",
    "print J    ### 303.993192\n",
    "print grad ### -15.303016; 598.250744"
   ]
  },
  {
   "cell_type": "code",
   "execution_count": 7,
   "metadata": {},
   "outputs": [],
   "source": [
    "import scipy.optimize as opt\n",
    "def trainLinearReg(X, y, lamb):\n",
    "    init_theta = np.zeros([X.shape[1], 1])\n",
    "    theta = opt.fmin_cg(regCostJ, init_theta, fprime=regGrad,\n",
    "                      maxiter = 136,  ### like as 200 in octave code;\n",
    "                    args=(X, y, lamb), disp=False)\n",
    "    return theta"
   ]
  },
  {
   "cell_type": "code",
   "execution_count": 8,
   "metadata": {},
   "outputs": [
    {
     "name": "stdout",
     "output_type": "stream",
     "text": [
      "[13.08790351  0.36777923]\n"
     ]
    }
   ],
   "source": [
    "lamb = 0.0\n",
    "theta = trainLinearReg(np.append(np.ones([m,1]), X, axis=1),\n",
    "                      y, lamb)\n",
    "print theta"
   ]
  },
  {
   "cell_type": "code",
   "execution_count": 9,
   "metadata": {},
   "outputs": [
    {
     "data": {
      "image/png": "[encoded data removed]",
      "text/plain": [
       "<Figure size 432x288 with 1 Axes>"
      ]
     },
     "metadata": {},
     "output_type": "display_data"
    }
   ],
   "source": [
    "plt.plot(X, y, 'rX');\n",
    "plt.xlabel('Change in water level (x)');\n",
    "plt.ylabel('Water flowing out of the dam (y)');\n",
    "theta = theta.reshape(-1,1)\n",
    "yyy = np.dot(np.append(np.ones([m,1]), X, axis=1), theta)\n",
    "plt.plot(X, yyy, 'b');"
   ]
  },
  {
   "cell_type": "code",
   "execution_count": 10,
   "metadata": {},
   "outputs": [],
   "source": [
    "def learningCurve(X, y, Xval, yval, lamb):\n",
    "    m = len(X)\n",
    "    error_train = np.zeros([m,1])\n",
    "    error_val   = np.zeros([m,1])\n",
    "    \n",
    "    for i in xrange(m):\n",
    "        theta = trainLinearReg(X[0:i+1, :], y[0:i+1], lamb)\n",
    "        error_train[i, 0], grad = linearRegCostFunction(\n",
    "            X[0:i+1, :], y[0:i+1], theta, 0.0)\n",
    "        error_val[i, 0], grad = linearRegCostFunction(\n",
    "            Xval, yval, theta, 0.0)\n",
    "    \n",
    "    return error_train, error_val"
   ]
  },
  {
   "cell_type": "code",
   "execution_count": 11,
   "metadata": {},
   "outputs": [
    {
     "name": "stdout",
     "output_type": "stream",
     "text": [
      "# Error As Different Training Examples\n",
      "[[  1.           0.         205.12109575]\n",
      " [  2.           0.         110.30036611]\n",
      " [  3.           3.28659505  45.01023181]\n",
      " [  4.           2.84267769  48.36891137]\n",
      " [  5.          13.15404881  35.86514112]\n",
      " [  6.          19.44396251  33.82995682]\n",
      " [  7.          20.09852166  31.97098678]\n",
      " [  8.          18.1728587   30.86244632]\n",
      " [  9.          22.60940542  31.13599796]\n",
      " [ 10.          23.26146159  28.93620747]\n",
      " [ 11.          24.31724959  29.55143162]\n",
      " [ 12.          22.3739065   29.43381813]]\n"
     ]
    }
   ],
   "source": [
    "lamb = 0.0\n",
    "XX = np.append(np.ones([m, 1]), X, axis=1)\n",
    "XXval = np.append(np.ones([len(Xval), 1]), Xval, axis=1)\n",
    "error_train, error_val = learningCurve(XX, y,\n",
    "                                      XXval, yval, lamb)\n",
    "print '# Error As Different Training Examples'\n",
    "disparr = np.append(error_train, error_val, axis=1)\n",
    "disparr = np.append(np.arange(1,m+1).reshape(-1,1),\n",
    "                    disparr, axis=1)\n",
    "print disparr"
   ]
  },
  {
   "cell_type": "code",
   "execution_count": 12,
   "metadata": {},
   "outputs": [
    {
     "data": {
      "image/png": "[encoded data removed]",
      "text/plain": [
       "<Figure size 432x288 with 1 Axes>"
      ]
     },
     "metadata": {},
     "output_type": "display_data"
    }
   ],
   "source": [
    "plt.plot(np.arange(1, m+1), error_train);\n",
    "plt.plot(np.arange(1, m+1), error_val);\n",
    "plt.axis([0, 13, 0, 150]);"
   ]
  },
  {
   "cell_type": "markdown",
   "metadata": {},
   "source": [
    "### Learning Curve for Polynomial Regression"
   ]
  },
  {
   "cell_type": "code",
   "execution_count": 13,
   "metadata": {},
   "outputs": [],
   "source": [
    "def polyFeatures(X, p):\n",
    "    X_poly = np.zeros([len(X), p])\n",
    "    for i in xrange(p):\n",
    "        X_poly[:, i] = (X**(i+1)).flatten()\n",
    "    return X_poly"
   ]
  },
  {
   "cell_type": "code",
   "execution_count": 14,
   "metadata": {},
   "outputs": [],
   "source": [
    "def featureNormalize(X):\n",
    "    mu = np.mean(X, axis=0)\n",
    "    X_norm = X - mu\n",
    "    sigma = np.std(X_norm, axis=0, ddof=1) \n",
    "                        ### ddof to similar as octave\n",
    "    X_norm = X_norm/sigma\n",
    "    return X_norm, mu, sigma"
   ]
  },
  {
   "cell_type": "code",
   "execution_count": 15,
   "metadata": {},
   "outputs": [
    {
     "name": "stdout",
     "output_type": "stream",
     "text": [
      "[ 1.         -0.36214078 -0.75508669  0.18222588 -0.70618991]\n"
     ]
    }
   ],
   "source": [
    "p = 8\n",
    "X_poly = polyFeatures(X, p)\n",
    "X_poly, mu, sigma = featureNormalize(X_poly)\n",
    "X_poly = np.append(np.ones([m, 1]), X_poly, axis=1)\n",
    "\n",
    "X_poly_test = polyFeatures(Xtest, p)\n",
    "X_poly_test = (X_poly_test - mu) / sigma\n",
    "X_poly_test = np.append(\n",
    "    np.ones([len(X_poly_test), 1]), \n",
    "    X_poly_test, axis=1)\n",
    "\n",
    "X_poly_val = polyFeatures(Xval, p)\n",
    "X_poly_val = (X_poly_val - mu) / sigma\n",
    "X_poly_val = np.append(\n",
    "    np.ones([len(X_poly_val), 1]), \n",
    "    X_poly_val, axis=1)\n",
    "\n",
    "print X_poly[0, :5]\n",
    "\n",
    "### 1.0, -0.36214078, -0.75508669,  0.18222588, -0.70618991"
   ]
  },
  {
   "cell_type": "code",
   "execution_count": 16,
   "metadata": {},
   "outputs": [
    {
     "name": "stdout",
     "output_type": "stream",
     "text": [
      "[ 11.27573595  11.39903322  15.13230696  11.56806769 -13.3466948\n",
      " -16.16228336   8.24534759   4.55803554  -4.96570348]\n"
     ]
    }
   ],
   "source": [
    "lamb = 0.0\n",
    "theta = trainLinearReg(X_poly, y, lamb)\n",
    "print theta"
   ]
  },
  {
   "cell_type": "code",
   "execution_count": 17,
   "metadata": {},
   "outputs": [],
   "source": [
    "def plotFit(min_x, max_x, mu, sigma, theta, p):\n",
    "    x = np.arange(min_x-15, max_x+25, step=0.05).reshape(-1,1)\n",
    "    x_poly = polyFeatures(x, p)\n",
    "    x_poly = (x_poly-mu)/sigma\n",
    "    x_poly = np.append(np.ones([len(x_poly), 1]), x_poly, axis=1)\n",
    "    plt.plot(x, np.dot(x_poly, theta), '--');"
   ]
  },
  {
   "cell_type": "code",
   "execution_count": 18,
   "metadata": {},
   "outputs": [
    {
     "data": {
      "image/png": "[encoded data removed]",
      "text/plain": [
       "<Figure size 432x288 with 1 Axes>"
      ]
     },
     "metadata": {},
     "output_type": "display_data"
    }
   ],
   "source": [
    "plt.plot(X, y, 'rX');\n",
    "plotFit(np.min(X), np.max(X), mu, sigma, theta, p)"
   ]
  },
  {
   "cell_type": "code",
   "execution_count": 21,
   "metadata": {},
   "outputs": [
    {
     "data": {
      "image/png": "[encoded data removed]",
      "text/plain": [
       "<Figure size 432x288 with 1 Axes>"
      ]
     },
     "metadata": {},
     "output_type": "display_data"
    }
   ],
   "source": [
    "error_train, error_val = learningCurve(X_poly, y,\n",
    "                                      X_poly_val, yval, lamb)\n",
    "plt.plot(np.arange(1, m+1), error_train);\n",
    "plt.plot(np.arange(1, m+1), error_val);\n",
    "plt.axis([0, 13, 0, 100]);"
   ]
  },
  {
   "cell_type": "code",
   "execution_count": 22,
   "metadata": {},
   "outputs": [
    {
     "name": "stdout",
     "output_type": "stream",
     "text": [
      "# Error As Different Training Examples\n",
      "[[  1.           0.         160.72189969]\n",
      " [  2.           0.         160.12151033]\n",
      " [  3.           0.          61.75500548]\n",
      " [  4.           0.          61.92889541]\n",
      " [  5.           0.           6.59600347]\n",
      " [  6.           0.00000008  10.64083305]\n",
      " [  7.           0.          27.98850342]\n",
      " [  8.           0.07017683   7.18540313]\n",
      " [  9.           0.14398837   7.97432551]\n",
      " [ 10.           0.03851526  23.65288748]\n",
      " [ 11.           0.05497702  29.92876607]\n",
      " [ 12.           0.14085557  16.27684854]]\n"
     ]
    }
   ],
   "source": [
    "print '# Error As Different Training Examples'\n",
    "disparr = np.append(error_train, error_val, axis=1)\n",
    "disparr = np.append(np.arange(1,m+1).reshape(-1,1),\n",
    "                    disparr, axis=1)\n",
    "print disparr"
   ]
  },
  {
   "cell_type": "code",
   "execution_count": 42,
   "metadata": {},
   "outputs": [],
   "source": [
    "def validationCurve(X, y, Xval, yval):\n",
    "    lamb_vec = np.array(\n",
    "        [0, 0.001, 0.003, 0.01, 0.03, 0.1, 0.3, 1, 3, 10]\n",
    "    )\n",
    "    error_train = np.zeros([len(lamb_vec), 1])\n",
    "    error_val   = np.zeros([len(lamb_vec), 1])\n",
    "    for i in xrange(len(lamb_vec)):\n",
    "        lamb = lamb_vec[i]\n",
    "        theta = trainLinearReg(X, y, lamb)\n",
    "        error_train[i, 0], grad =linearRegCostFunction(\n",
    "                                    X, y, theta, 0.0)\n",
    "        error_val[i, 0], grad   =linearRegCostFunction(\n",
    "                                    Xval, yval, theta, 0.0)\n",
    "    return lamb_vec, error_train, error_val"
   ]
  },
  {
   "cell_type": "code",
   "execution_count": 43,
   "metadata": {},
   "outputs": [
    {
     "name": "stdout",
     "output_type": "stream",
     "text": [
      "# Error As Different Training Examples\n",
      "[[ 0.          0.14085557 16.27684854]\n",
      " [ 0.001       0.15153458 18.94813801]\n",
      " [ 0.003       0.17357287 17.03331812]\n",
      " [ 0.01        0.2215186  16.94664304]\n",
      " [ 0.03        0.28184955 12.82911185]\n",
      " [ 0.1         0.45929724  7.58743291]\n",
      " [ 0.3         0.92177135  4.63680408]\n",
      " [ 1.          2.0761875   4.26063043]\n",
      " [ 3.          4.90134757  3.82289867]\n",
      " [10.         16.09220998  9.94550365]]\n"
     ]
    }
   ],
   "source": [
    "lamb_vec, error_train, error_val = validationCurve(\n",
    "                X_poly, y, X_poly_val, yval)\n",
    "print '# Error As Different Training Examples'\n",
    "disparr = np.append(error_train, error_val, axis=1)\n",
    "disparr = np.append(lamb_vec.reshape(-1,1),\n",
    "                    disparr, axis=1)\n",
    "print disparr"
   ]
  },
  {
   "cell_type": "code",
   "execution_count": 44,
   "metadata": {},
   "outputs": [
    {
     "data": {
      "image/png": "[encoded data removed]",
      "text/plain": [
       "<Figure size 432x288 with 1 Axes>"
      ]
     },
     "metadata": {},
     "output_type": "display_data"
    }
   ],
   "source": [
    "plt.plot(lamb_vec, error_train);\n",
    "plt.plot(lamb_vec, error_val);"
   ]
  },
  {
   "cell_type": "code",
   "execution_count": null,
   "metadata": {},
   "outputs": [],
   "source": []
  },
  {
   "cell_type": "code",
   "execution_count": null,
   "metadata": {},
   "outputs": [],
   "source": []
  }
 ],
 "metadata": {
  "kernelspec": {
   "display_name": "Python 2",
   "language": "python",
   "name": "python2"
  },
  "language_info": {
   "codemirror_mode": {
    "name": "ipython",
    "version": 2
   },
   "file_extension": ".py",
   "mimetype": "text/x-python",
   "name": "python",
   "nbconvert_exporter": "python",
   "pygments_lexer": "ipython2",
   "version": "2.7.14"
  }
 },
 "nbformat": 4,
 "nbformat_minor": 2
}
