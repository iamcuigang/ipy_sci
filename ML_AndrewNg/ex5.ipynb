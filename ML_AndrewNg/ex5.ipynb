{
 "cells": [
  {
   "cell_type": "code",
   "execution_count": 1,
   "metadata": {},
   "outputs": [],
   "source": [
    "import numpy as np\n",
    "import matplotlib.pyplot as plt\n",
    "import seaborn as sns\n",
    "import math\n",
    "sns.set_context('talk')\n",
    "np.set_printoptions(suppress=True) \n",
    "    ### not xEyy format(science float format)\n",
    "%matplotlib inline    "
   ]
  },
  {
   "cell_type": "code",
   "execution_count": 2,
   "metadata": {},
   "outputs": [
    {
     "name": "stdout",
     "output_type": "stream",
     "text": [
      "['ytest', 'yval', '__header__', '__globals__', 'Xtest', 'Xval', 'y', 'X', '__version__']\n"
     ]
    }
   ],
   "source": [
    "import scipy.io\n",
    "data = scipy.io.loadmat('ex5data1.mat')\n",
    "print data.keys()"
   ]
  },
  {
   "cell_type": "code",
   "execution_count": 3,
   "metadata": {},
   "outputs": [],
   "source": [
    "X = data['X']\n",
    "y = data['y']\n",
    "Xval = data['Xval']\n",
    "yval = data['yval']\n",
    "Xtest = data['Xtest']\n",
    "ytest = data['ytest']"
   ]
  },
  {
   "cell_type": "code",
   "execution_count": 4,
   "metadata": {},
   "outputs": [
    {
     "data": {
      "image/png": "[encoded data removed]",
      "text/plain": [
       "<Figure size 432x288 with 1 Axes>"
      ]
     },
     "metadata": {},
     "output_type": "display_data"
    }
   ],
   "source": [
    "plt.plot(X, y, 'rX');\n",
    "plt.xlabel('Change in water level (x)');\n",
    "plt.ylabel('Water flowing out of the dam (y)');"
   ]
  },
  {
   "cell_type": "code",
   "execution_count": 54,
   "metadata": {},
   "outputs": [],
   "source": [
    "def regGrad(theta, *args):\n",
    "    (X, y, lamb) = args\n",
    "    m = len(y)\n",
    "    \n",
    "    theta_00 = theta.copy()\n",
    "    theta_00[0] = 0\n",
    "    g1 = 1./m * np.sum((np.dot(X,theta)-y)*X, axis=0).reshape(-1,1)\n",
    "    g2 = lamb/m * theta_00\n",
    "    grad = g1 + g2\n",
    "#     grad = grad.flatten()\n",
    "    return grad\n",
    "\n",
    "def regCostJ(theta, *args):\n",
    "    (X, y, lamb) = args\n",
    "    m = len(y)\n",
    "    \n",
    "    theta_but0 = theta[1:]\n",
    "    J1 = 1./(2.*m)*np.sum((np.dot(X,theta)-y)**2)\n",
    "    J2 = lamb/(2.*m)*np.sum(theta_but0**2)\n",
    "    J = J1+J2\n",
    "    return J\n",
    "\n",
    "def linearRegCostFunction(X, y, theta, lamb):\n",
    "    J = regCostJ(theta, X, y, lamb)\n",
    "    grad = regGrad(theta, X, y, lamb)\n",
    "    return J, grad"
   ]
  },
  {
   "cell_type": "code",
   "execution_count": 55,
   "metadata": {},
   "outputs": [
    {
     "name": "stdout",
     "output_type": "stream",
     "text": [
      "303.9931922202643\n",
      "[[-15.30301567]\n",
      " [598.25074417]]\n"
     ]
    }
   ],
   "source": [
    "m = len(X)\n",
    "theta = np.array([1, 1]).reshape(-1,1)\n",
    "XX = np.append(np.ones([m, 1]), X, axis=1)\n",
    "J, grad = linearRegCostFunction(XX, y, theta, 1.0)\n",
    "print J    ### 303.993192\n",
    "print grad ### -15.303016; 598.250744"
   ]
  },
  {
   "cell_type": "code",
   "execution_count": null,
   "metadata": {},
   "outputs": [],
   "source": []
  },
  {
   "cell_type": "code",
   "execution_count": null,
   "metadata": {},
   "outputs": [],
   "source": []
  }
 ],
 "metadata": {
  "kernelspec": {
   "display_name": "Python 2",
   "language": "python",
   "name": "python2"
  },
  "language_info": {
   "codemirror_mode": {
    "name": "ipython",
    "version": 2
   },
   "file_extension": ".py",
   "mimetype": "text/x-python",
   "name": "python",
   "nbconvert_exporter": "python",
   "pygments_lexer": "ipython2",
   "version": "2.7.14"
  }
 },
 "nbformat": 4,
 "nbformat_minor": 2
}
