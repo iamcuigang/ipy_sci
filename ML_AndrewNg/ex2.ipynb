{
 "cells": [
  {
   "cell_type": "code",
   "execution_count": 1,
   "metadata": {},
   "outputs": [],
   "source": [
    "import numpy as np\n",
    "import matplotlib.pyplot as plt\n",
    "import seaborn as sns\n",
    "sns.set_context('talk')"
   ]
  },
  {
   "cell_type": "code",
   "execution_count": 2,
   "metadata": {},
   "outputs": [
    {
     "data": {
      "text/plain": [
       "array([[30.28671077, 43.89499752,  0.        ],\n",
       "       [35.84740877, 72.90219803,  0.        ],\n",
       "       [60.18259939, 86.3085521 ,  1.        ],\n",
       "       [79.03273605, 75.34437644,  1.        ],\n",
       "       [45.08327748, 56.31637178,  0.        ],\n",
       "       [61.10666454, 96.51142588,  1.        ],\n",
       "       [75.02474557, 46.55401354,  1.        ],\n",
       "       [76.0987867 , 87.42056972,  1.        ],\n",
       "       [84.43281996, 43.53339331,  1.        ]])"
      ]
     },
     "execution_count": 2,
     "metadata": {},
     "output_type": "execute_result"
    }
   ],
   "source": [
    "data = np.loadtxt('ex2data1.txt')\n",
    "data[1:10,:]"
   ]
  },
  {
   "cell_type": "code",
   "execution_count": 3,
   "metadata": {},
   "outputs": [],
   "source": [
    "X = data[:, (0,1)]\n",
    "y = data[:, 2].reshape(-1, 1)"
   ]
  },
  {
   "cell_type": "code",
   "execution_count": 4,
   "metadata": {
    "scrolled": true
   },
   "outputs": [
    {
     "data": {
      "image/png": "[encoded data removed]",
      "text/plain": [
       "<Figure size 432x288 with 1 Axes>"
      ]
     },
     "metadata": {},
     "output_type": "display_data"
    }
   ],
   "source": [
    "%matplotlib inline\n",
    "plt.plot(\n",
    "    X[np.where(y==0),0].T, X[np.where(y==0), 1].T, 'o');\n",
    "plt.plot(\n",
    "    X[np.where(y==1),0].T, X[np.where(y==1), 1].T, '^');\n",
    "\n",
    "plt.xlabel('Exam 1 score');\n",
    "plt.ylabel('Exam 2 score');\n",
    "# plt.legend(['Admitted', 'Not admitted']);"
   ]
  },
  {
   "cell_type": "code",
   "execution_count": 5,
   "metadata": {},
   "outputs": [],
   "source": [
    "m, n = X.shape\n",
    "XX = np.append(np.ones([m,1]), X, axis=1)\n",
    "initial_theta = np.zeros([n+1, 1])"
   ]
  },
  {
   "cell_type": "code",
   "execution_count": 6,
   "metadata": {},
   "outputs": [],
   "source": [
    "def sigmoid(z):\n",
    "    g = 1.0/(1.0+np.exp(-z))\n",
    "    return g\n",
    "\n",
    "def costFunction(theta, X, y):\n",
    "    m = len(y)\n",
    "    hx = sigmoid(np.dot(X, theta))\n",
    "    J1 = -y * np.log(hx)\n",
    "    J2 = (1.0 - y) * np.log(1.0 - hx)\n",
    "    J = 1.0 / m * np.sum( J1 - J2 )\n",
    "    \n",
    "    grad = 1.0 / m * np.sum( (hx - y) * X , axis = 0)\n",
    "    grad = grad.reshape(-1, 1)\n",
    "    \n",
    "    return J, grad"
   ]
  },
  {
   "cell_type": "code",
   "execution_count": 7,
   "metadata": {},
   "outputs": [
    {
     "name": "stdout",
     "output_type": "stream",
     "text": [
      "0.6931471805599453\n",
      "[[ -0.1       ]\n",
      " [-12.00921659]\n",
      " [-11.26284221]]\n"
     ]
    }
   ],
   "source": [
    "cost, grad = costFunction( initial_theta, XX, y)\n",
    "print cost ### 0.693\n",
    "print grad ### -0.100, -12.0092, -11.2628"
   ]
  },
  {
   "cell_type": "code",
   "execution_count": 8,
   "metadata": {},
   "outputs": [
    {
     "name": "stdout",
     "output_type": "stream",
     "text": [
      "0.21833019382659774\n",
      "[[0.04290299]\n",
      " [2.56623412]\n",
      " [2.64679737]]\n"
     ]
    }
   ],
   "source": [
    "test_theta = [[-24], [0.2], [0.2]]\n",
    "cost, grad = costFunction(test_theta, XX, y)\n",
    "print cost ### 0.218\n",
    "print grad ### 0.043, 2.566, 2.647"
   ]
  },
  {
   "cell_type": "code",
   "execution_count": null,
   "metadata": {},
   "outputs": [],
   "source": []
  }
 ],
 "metadata": {
  "kernelspec": {
   "display_name": "Python 2",
   "language": "python",
   "name": "python2"
  },
  "language_info": {
   "codemirror_mode": {
    "name": "ipython",
    "version": 2
   },
   "file_extension": ".py",
   "mimetype": "text/x-python",
   "name": "python",
   "nbconvert_exporter": "python",
   "pygments_lexer": "ipython2",
   "version": "2.7.14"
  }
 },
 "nbformat": 4,
 "nbformat_minor": 2
}
