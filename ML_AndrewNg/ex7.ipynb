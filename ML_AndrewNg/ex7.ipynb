{
 "cells": [
  {
   "cell_type": "code",
   "execution_count": 1,
   "metadata": {},
   "outputs": [],
   "source": [
    "import numpy as np\n",
    "import matplotlib.pyplot as plt\n",
    "import seaborn as sns\n",
    "import math\n",
    "sns.set_context('talk')\n",
    "np.set_printoptions(suppress=True) \n",
    "    ### not xEyy format(science float format)\n",
    "%matplotlib inline  "
   ]
  },
  {
   "cell_type": "code",
   "execution_count": 2,
   "metadata": {},
   "outputs": [
    {
     "name": "stdout",
     "output_type": "stream",
     "text": [
      "['X', '__version__', '__header__', '__globals__']\n"
     ]
    }
   ],
   "source": [
    "import scipy.io\n",
    "data = scipy.io.loadmat('ex7data2.mat')\n",
    "print data.keys()"
   ]
  },
  {
   "cell_type": "code",
   "execution_count": 6,
   "metadata": {},
   "outputs": [
    {
     "data": {
      "image/png": "[encoded data removed]",
      "text/plain": [
       "<Figure size 432x288 with 1 Axes>"
      ]
     },
     "metadata": {},
     "output_type": "display_data"
    }
   ],
   "source": [
    "X = data['X']\n",
    "plt.plot(X[:,0], X[:,1], '.');"
   ]
  },
  {
   "cell_type": "code",
   "execution_count": 23,
   "metadata": {},
   "outputs": [],
   "source": [
    "def findClosestCentroids(X, centroids):\n",
    "    K = len(centroids)\n",
    "    idx = np.zeros([len(X), 1])\n",
    "    for i in xrange(len(X)):\n",
    "        dmin, dmin_j = -1, -1\n",
    "        for j in xrange(len(centroids)):\n",
    "            dst = np.sum((X[i,:] - centroids[j, :])**2)\n",
    "#             print dst,\n",
    "            if dmin > dst or dmin==-1:\n",
    "                dmin = dst\n",
    "                dmin_j = j\n",
    "        idx[i, 0] = dmin_j\n",
    "#         print '->', dmin_j\n",
    "    return idx"
   ]
  },
  {
   "cell_type": "code",
   "execution_count": 24,
   "metadata": {},
   "outputs": [
    {
     "name": "stdout",
     "output_type": "stream",
     "text": [
      "[[0.]\n",
      " [2.]\n",
      " [1.]]\n"
     ]
    }
   ],
   "source": [
    "K = 3\n",
    "initial_centroids = np.array([[3,3],\n",
    "                              [6,2],\n",
    "                              [8,5]])\n",
    "idx = findClosestCentroids(X, initial_centroids)\n",
    "print idx[:3]   ### 0,2,1"
   ]
  },
  {
   "cell_type": "code",
   "execution_count": null,
   "metadata": {},
   "outputs": [],
   "source": []
  },
  {
   "cell_type": "code",
   "execution_count": null,
   "metadata": {},
   "outputs": [],
   "source": []
  },
  {
   "cell_type": "code",
   "execution_count": null,
   "metadata": {},
   "outputs": [],
   "source": []
  },
  {
   "cell_type": "code",
   "execution_count": null,
   "metadata": {},
   "outputs": [],
   "source": []
  },
  {
   "cell_type": "code",
   "execution_count": null,
   "metadata": {},
   "outputs": [],
   "source": []
  },
  {
   "cell_type": "code",
   "execution_count": null,
   "metadata": {},
   "outputs": [],
   "source": []
  }
 ],
 "metadata": {
  "kernelspec": {
   "display_name": "Python 2",
   "language": "python",
   "name": "python2"
  },
  "language_info": {
   "codemirror_mode": {
    "name": "ipython",
    "version": 2
   },
   "file_extension": ".py",
   "mimetype": "text/x-python",
   "name": "python",
   "nbconvert_exporter": "python",
   "pygments_lexer": "ipython2",
   "version": "2.7.14"
  }
 },
 "nbformat": 4,
 "nbformat_minor": 2
}
